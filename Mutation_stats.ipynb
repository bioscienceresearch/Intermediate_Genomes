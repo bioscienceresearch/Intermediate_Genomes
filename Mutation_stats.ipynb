{
 "cells": [
  {
   "cell_type": "code",
   "execution_count": 23,
   "id": "generic-tsunami",
   "metadata": {},
   "outputs": [],
   "source": [
    "import pathlib\n",
    "import subprocess\n",
    "import os\n",
    "import pandas as pd\n",
    "import numpy as np\n",
    "import matplotlib as mpl\n",
    "import matplotlib.pyplot as plt\n",
    "import seaborn as sns\n",
    "sns.set_style('whitegrid')"
   ]
  },
  {
   "cell_type": "code",
   "execution_count": 24,
   "id": "casual-spring",
   "metadata": {},
   "outputs": [
    {
     "data": {
      "text/html": [
       "<style>.container { width:95% !important; }</style>"
      ],
      "text/plain": [
       "<IPython.core.display.HTML object>"
      ]
     },
     "metadata": {},
     "output_type": "display_data"
    }
   ],
   "source": [
    "from IPython.core.display import display, HTML\n",
    "display(HTML(\"<style>.container { width:95% !important; }</style>\"))"
   ]
  },
  {
   "cell_type": "code",
   "execution_count": 25,
   "id": "e9345d53-9a51-4965-83e8-4ecb709565c0",
   "metadata": {},
   "outputs": [],
   "source": [
    "import warnings\n",
    "warnings.filterwarnings('ignore')\n",
    "warnings.simplefilter('ignore')"
   ]
  },
  {
   "cell_type": "markdown",
   "id": "37052967",
   "metadata": {},
   "source": [
    "## Calculate statistics at key mutation sites in early sequences\n",
    "\n",
    "8782, 28144, 29095\n"
   ]
  },
  {
   "cell_type": "code",
   "execution_count": 26,
   "id": "7ab23e2e",
   "metadata": {},
   "outputs": [],
   "source": [
    "def write_text(out_file, text, file_opt='a'):\n",
    "    try:\n",
    "        f = open(out_file, file_opt)\n",
    "        f.write(text)\n",
    "        f.write('\\n')\n",
    "        f.close()\n",
    "    except Exception as e:\n",
    "        raise RuntimeError(\"command '{}' return with error (code {}): {}\".format(e.cmd, e.returncode, e.output))"
   ]
  },
  {
   "cell_type": "code",
   "execution_count": 27,
   "id": "fcbdca9c",
   "metadata": {},
   "outputs": [],
   "source": [
    "def remove_clipping(alignment_path, bam_file):\n",
    "    #removes soft clipping from reads, keeps matched section\n",
    "    out_file=bam_file.split('.bam')[0]+'_removedclip.bam'\n",
    "    try:\n",
    "        cmd = f\"{NGSUTILS_PATH}ngsutilsj bam-removeclipping -f {alignment_path+bam_file} {alignment_path+out_file}\"\n",
    "        subprocess.check_call(cmd, shell=True)\n",
    "    except subprocess.CalledProcessError as e:\n",
    "        raise RuntimeError(\"command '{}' return with error (code {}): {}\".format(e.cmd, e.returncode, e.output))\n",
    "    #bam file needs to be indexed for bam-readcount\n",
    "    try:\n",
    "        cmd = f\"{SAMTOOLS_PATH}samtools index {alignment_path+out_file}\"\n",
    "        subprocess.check_call(cmd, shell=True)\n",
    "    except subprocess.CalledProcessError as e:\n",
    "        raise RuntimeError(\"command '{}' return with error (code {}): {}\".format(e.cmd, e.returncode, e.output))\n",
    "    return out_file"
   ]
  },
  {
   "cell_type": "code",
   "execution_count": 28,
   "id": "d31473f1-a465-44ea-801d-47543c3ba642",
   "metadata": {},
   "outputs": [],
   "source": [
    "def run_bam_readcount(alignment_path, bam_file, site_list, min_mapq=0, min_baseq=0):\n",
    "    out_file=bam_file.split('.bam')[0]+'.brc.tsv'\n",
    "    try:\n",
    "        cmd = f\"{BAM_READCOUNT_PATH}bam-readcount -w1 -f {REF_PATH+REF_NAME} {alignment_path+bam_file} {site_list} > {alignment_path+out_file}\"\n",
    "        subprocess.check_call(cmd, shell=True)\n",
    "    except subprocess.CalledProcessError as e:\n",
    "        raise RuntimeError(\"command '{}' return with error (code {}): {}\".format(e.cmd, e.returncode, e.output))\n",
    "    return out_file"
   ]
  },
  {
   "cell_type": "code",
   "execution_count": 29,
   "id": "496207df",
   "metadata": {},
   "outputs": [],
   "source": [
    "def get_base_data(field_data, base_fields):\n",
    "    # Iterate over each base/indel\n",
    "    base_data_list=[]\n",
    "    for base_data_string in field_data:\n",
    "        #print(f'base_data_string: {base_data_string}')\n",
    "        base_data = {}\n",
    "        base_values = base_data_string.split(':')\n",
    "        for i, base_field in enumerate(base_fields.keys()):\n",
    "            base_data[base_field] = base_fields[base_field](base_values[i])\n",
    "        base_data_list.append(base_data)\n",
    "    return base_data_list"
   ]
  },
  {
   "cell_type": "code",
   "execution_count": 30,
   "id": "208e11b7",
   "metadata": {},
   "outputs": [],
   "source": [
    "def bam_readcount_results(sra, bam_readcount_output,min_depth=0,min_vaf=0):\n",
    "    base_fields = {\n",
    "        'base': str,\n",
    "        'count': int,\n",
    "        'avg_mapping_quality': float,\n",
    "        'avg_basequality': float,\n",
    "        'avg_se_mapping_quality': float,\n",
    "        'num_plus_strand': int,\n",
    "        'num_minus_strand': int,\n",
    "        'avg_pos_as_fraction': float,\n",
    "        'avg_num_mismatches_as_fraction': float,\n",
    "        'avg_sum_mismatch_qualities': float,\n",
    "        'num_q2_containing_reads': int,\n",
    "        'avg_distance_to_q2_start_in_q2_reads': float,\n",
    "        'avg_clipped_length': float,\n",
    "        'avg_distance_to_effective_3p_end': float\n",
    "    }\n",
    "    \n",
    "    with open(bam_readcount_output) as in_fh:\n",
    "        tsv_strings=[]\n",
    "        for i, line in enumerate(in_fh):\n",
    "            line = line.strip()\n",
    "            fields = line.split('\\t')\n",
    "            # The first four fields contain overall information about the position\n",
    "            chrom = fields[0]               # Chromosome/reference name\n",
    "            position = int(fields[1])       # Position (1-based)\n",
    "            reference_base = fields[2]      # Reference base\n",
    "            depth = int(fields[3])          # Depth of coverage\n",
    "            \n",
    "            base_data_l=get_base_data(fields[4:], base_fields)\n",
    "\n",
    "            # Skip zero-depth bases\n",
    "            if depth == 0:\n",
    "                print(chrom+'\\t'+str(position)+'\\t'+reference_base+'\\t'+'zero depth')\n",
    "                continue\n",
    "            for base_data in base_data_l:\n",
    "                # Calculate an allele frequency (VAF) from the base counts\n",
    "                vaf = base_data['count'] / depth\n",
    "                # Filter on minimum depth and VAF\n",
    "                if depth >= min_depth and vaf >= min_vaf:\n",
    "                    # Output count and VAF data as well as avg_pos_as_fraction\n",
    "                    tsv_string='\\t'.join(str(x) for x in (sra, chrom, position, reference_base, base_data['base'],'%0.2f' % (vaf), depth, base_data['count'],\n",
    "                                                 base_data['avg_basequality'], base_data['avg_pos_as_fraction']))\n",
    "                    \n",
    "                    tsv_strings.append(tsv_string)\n",
    "    return tsv_strings"
   ]
  },
  {
   "cell_type": "code",
   "execution_count": 31,
   "id": "e215fc0a",
   "metadata": {},
   "outputs": [],
   "source": [
    "def plot_vaf_vs_avg_pos(df, min_depth=0, min_var=0, min_vaf=0, fig_file=None):\n",
    "    select = (df['depth'] >= min_depth) & \\\n",
    "    (df['count'] >= min_var) & \\\n",
    "    (df['vaf'] >= min_vaf)\n",
    "\n",
    "    df = df[select]\n",
    "\n",
    "    plt.plot(df['avg_pos_as_fraction'], df['vaf'], 'o', color='black')\n",
    "    plt.title('vaf vs avg_pos_as_fraction')\n",
    "    plt.xlabel('avg_pos_as_fraction')\n",
    "    plt.ylabel('vaf')\n",
    "    if fig_file:\n",
    "        plt.savefig(fig_file)\n",
    "    plt.show()\n",
    "        "
   ]
  },
  {
   "cell_type": "code",
   "execution_count": 32,
   "id": "7cb87460",
   "metadata": {},
   "outputs": [],
   "source": [
    "def plot_vaf_vs_avg_bq(df, min_depth=0, min_var=0, min_vaf=0, fig_file=None):\n",
    "    select = (df['depth'] >= min_depth) & (df['count'] >= min_var)\n",
    "    df = df[select]\n",
    "    plt.plot(df['avg_basequality'], df['vaf'], 'o', color='black', alpha=0.6)\n",
    "    plt.title('vaf vs avg_basequality')\n",
    "    plt.xlabel('avg_basequality')\n",
    "    plt.ylabel('vaf')\n",
    "\n",
    "    if fig_file:\n",
    "        plt.savefig(fig_file)\n",
    "\n",
    "    plt.show()"
   ]
  },
  {
   "cell_type": "code",
   "execution_count": 33,
   "id": "moral-victor",
   "metadata": {},
   "outputs": [],
   "source": [
    "def workflow(site_list, mapq=0, baseq=0, min_depth=0,min_vaf=0, remove_clip=True, bam_file_override=None):\n",
    "    summary_results=[]\n",
    "    for idx, sra in enumerate(SRAs):\n",
    "        alignment_path=PRJ_OUT_PATH+sra\n",
    "        if not os.path.isdir(alignment_path):\n",
    "            pathlib.Path(alignment_path).mkdir(exist_ok=True)\n",
    "        alignment_path=PRJ_OUT_PATH+sra+f'/{ALIGNER}/'\n",
    "        assert os.path.isdir(alignment_path)\n",
    "        if bam_file_override is not None:\n",
    "            bam_file=f\"{sra}{bam_file_override}.bam\"\n",
    "        else:\n",
    "            bam_file = f\"{sra}_{ALIGN_OPTS_NAME}_{ALIGN_NAME}_{FILTER}_{ALIGNER}_{BAM_PROC_STRING}.bam\"\n",
    "        if remove_clip:\n",
    "            bam_file=remove_clipping(alignment_path,bam_file)\n",
    "        assert os.path.isfile(alignment_path+bam_file)\n",
    "        bam_readcount_output=run_bam_readcount(alignment_path, bam_file, site_list, mapq, baseq)\n",
    "        tsv_strings=bam_readcount_results(sra, alignment_path+bam_readcount_output,min_depth=min_depth,min_vaf=min_vaf)\n",
    "        summary_results.append(tsv_strings) \n",
    "        \n",
    "    summary_results = [val for sublist in summary_results for val in sublist]\n",
    "    sdata=[]\n",
    "    for s in summary_results:\n",
    "        st=s.split('\\t')\n",
    "        sdata.append(st)\n",
    "\n",
    "    df = pd.DataFrame(sdata, columns=['sra', 'reference','position','ref_base','base','vaf','depth','count','avg_basequality','avg_pos_as_fraction'])\n",
    "    df = df.astype( dtype={'sra':'str', 'reference':'str', 'position':'int', 'ref_base':'str','base':'str','vaf':'float', 'depth':'int',\\\n",
    "                           'count':'int', 'avg_basequality':'float', 'avg_pos_as_fraction':'float'})\n",
    "    return df"
   ]
  },
  {
   "cell_type": "markdown",
   "id": "74ce89c2",
   "metadata": {},
   "source": [
    "### General Settings"
   ]
  },
  {
   "cell_type": "code",
   "execution_count": 34,
   "id": "847867a0",
   "metadata": {},
   "outputs": [],
   "source": [
    "MINIMAP2_PATH='~/apps/minimap2-2.24_x64-linux/'\n",
    "SAMTOOLS_PATH='~/apps/samtools-1.14/bin/'\n",
    "GATK_JAR='~/apps/gatk-4.1.9.0/gatk-package-4.1.9.0-local.jar'\n",
    "BAMSTATS_JAR='~/apps/BAMStats-1.25/BAMStats-1.25.jar'\n",
    "BAMDST_PATH='/mnt/1TB_0/Data/Code/external/bamdst/'\n",
    "NGSUTILS_PATH='~/apps/ngsutils/'\n",
    "BAM_READCOUNT_PATH='/mnt/1TB_0/Data/Code/external/bam-readcount/build/bin/'"
   ]
  },
  {
   "cell_type": "code",
   "execution_count": 35,
   "id": "a8d93201",
   "metadata": {},
   "outputs": [],
   "source": [
    "ALIGNER='minimap2'\n",
    "BAM_PROC_STRING='samtools_sorted'\n",
    "\n",
    "REF_NAME='NC_045512_2_SARS_CoV_2_Wuahn-Hu-1_no_polyA.fa'\n",
    "REF_PATH='/mnt/1TB_0/Data/fasta/complete_nucleotide/bwa_indexes/'\n",
    "ALIGN_NAME=REF_NAME.split('.fa')[0]\n",
    "\n",
    "FILTER='TrimGalore'\n",
    "\n",
    "ALIGN_OPTS_NAME='x_sr_secondary_no'\n",
    "\n",
    "SITE_LIST='NC_045512.2:8782-8782, NC_045512.2:28144-28144, NC_045512.2:29095-29095'\n"
   ]
  },
  {
   "cell_type": "markdown",
   "id": "fe6ec693",
   "metadata": {},
   "source": [
    "### BioProject specific"
   ]
  },
  {
   "cell_type": "code",
   "execution_count": 36,
   "id": "67201217",
   "metadata": {},
   "outputs": [],
   "source": [
    "PRJ='PRJNA698267'\n",
    "PRJ_OUT_PATH=f'/mnt/8TB_0/Data/Assembly/{PRJ}/'\n",
    "\n",
    "\n",
    "SRAs=['SRR13615939','SRR13615941','SRR13615942','SRR13615948','SRR13615949','SRR13615950','SRR13615951','SRR13615952','SRR13615953','SRR13615954',\\\n",
    "      'SRR13615955','SRR13615956','SRR13615957','SRR13615958','SRR13615959','SRR13615960','SRR13615961','SRR13615962','SRR13615964','SRR13615965',\\\n",
    "      'SRR13615967','SRR13615969','SRR13615971','SRR13615976','SRR13615977','SRR13615982','SRR13615983','SRR13615984','SRR13615987','SRR13615988',\\\n",
    "      'SRR13615990','SRR13615991','SRR13615992','SRR13615994','SRR13615995','SRR13615996','SRR13615997','SRR13615998','SRR13616000','SRR13616001',\\\n",
    "      'SRR13616002','SRR13616003','SRR13616004','SRR13616010','SRR13616011','SRR13616012','SRR13616013','SRR13616014','SRR13616016','SRR13616017',\\\n",
    "      'SRR13616019','SRR13616021','SRR13616023','SRR13616024','SRR13616028']\n",
    "\n",
    "df=workflow(SITE_LIST, mapq=0, baseq=0, min_depth=3,min_vaf=0.05, remove_clip=True)\n",
    "df.to_csv(PRJ+'_lite_8782_28144_29095.csv')"
   ]
  },
  {
   "cell_type": "code",
   "execution_count": 37,
   "id": "4e163495",
   "metadata": {},
   "outputs": [],
   "source": [
    "PRJ='PRJNA698267'\n",
    "PRJ_OUT_PATH=f'/mnt/8TB_0/Data/Assembly/{PRJ}/'\n",
    "\n",
    "SRAs=['SRR13615940','SRR13615943','SRR13615944','SRR13615945','SRR13615946','SRR13615947','SRR13615963','SRR13615966','SRR13615968','SRR13615970',\\\n",
    "           'SRR13615972','SRR13615973','SRR13615974','SRR13615975','SRR13615978','SRR13615979','SRR13615980','SRR13615981','SRR13615985','SRR13615986',\\\n",
    "           'SRR13615989','SRR13615999','SRR13616005','SRR13616006','SRR13616007','SRR13616008','SRR13616009','SRR13616015','SRR13616018','SRR13616020',\\\n",
    "           'SRR13616022','SRR13616025','SRR13616026','SRR13616027','SRR13616029', 'SRR13615993']\n",
    "\n",
    "\n",
    "\n",
    "df=workflow(SITE_LIST, mapq=0, baseq=0, min_depth=3,min_vaf=0.05, remove_clip=True)\n",
    "df.to_csv(PRJ+'_8782_28144_29095.csv')"
   ]
  },
  {
   "cell_type": "code",
   "execution_count": null,
   "id": "cd5a9bb8",
   "metadata": {},
   "outputs": [],
   "source": []
  },
  {
   "cell_type": "code",
   "execution_count": null,
   "id": "2b302e9f",
   "metadata": {},
   "outputs": [],
   "source": []
  }
 ],
 "metadata": {
  "kernelspec": {
   "display_name": "Python 3",
   "language": "python",
   "name": "python3"
  },
  "language_info": {
   "codemirror_mode": {
    "name": "ipython",
    "version": 3
   },
   "file_extension": ".py",
   "mimetype": "text/x-python",
   "name": "python",
   "nbconvert_exporter": "python",
   "pygments_lexer": "ipython3",
   "version": "3.6.13"
  }
 },
 "nbformat": 4,
 "nbformat_minor": 5
}
